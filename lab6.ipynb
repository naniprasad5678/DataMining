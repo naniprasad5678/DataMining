{
  "cells": [
    {
      "cell_type": "markdown",
      "metadata": {
        "id": "view-in-github",
        "colab_type": "text"
      },
      "source": [
        "<a href=\"https://colab.research.google.com/github/naniprasad5678/DataMining/blob/main/lab6.ipynb\" target=\"_parent\"><img src=\"https://colab.research.google.com/assets/colab-badge.svg\" alt=\"Open In Colab\"/></a>"
      ]
    },
    {
      "cell_type": "code",
      "source": [
        "import pandas as pd\n",
        "from sklearn.model_selection import train_test_split\n",
        "from sklearn.ensemble import RandomForestClassifier\n",
        "from datetime import datetime\n",
        "from sklearn.preprocessing import LabelEncoder\n"
      ],
      "metadata": {
        "id": "_-rhtXrcYgrz"
      },
      "execution_count": 20,
      "outputs": []
    },
    {
      "cell_type": "code",
      "source": [
        "data={'category':['A','B','C','A','B']}\n",
        "df=pd.DataFrame(data)"
      ],
      "metadata": {
        "id": "DrRgxn4pYy1I"
      },
      "execution_count": 19,
      "outputs": []
    },
    {
      "cell_type": "code",
      "source": [
        "\n",
        "label_encoder = LabelEncoder()\n",
        "df['category'] = label_encoder.fit_transform(df['category'])\n",
        "\n"
      ],
      "metadata": {
        "id": "Ql2is0WzZMFr"
      },
      "execution_count": 17,
      "outputs": []
    },
    {
      "cell_type": "code",
      "source": [
        "one_hot_encoded_data = pd.get_dummies(df, columns = ['category'])\n",
        "df=pd.concat([df,one_hot_encoded_data],axis=1)\n",
        "print(df)"
      ],
      "metadata": {
        "colab": {
          "base_uri": "https://localhost:8080/"
        },
        "id": "0ZBqrOGqZp3f",
        "outputId": "d61ef0d5-3b74-422a-d6be-c1da0b1f99b9"
      },
      "execution_count": 21,
      "outputs": [
        {
          "output_type": "stream",
          "name": "stdout",
          "text": [
            "  category  category_A  category_B  category_C\n",
            "0        A        True       False       False\n",
            "1        B       False        True       False\n",
            "2        C       False       False        True\n",
            "3        A        True       False       False\n",
            "4        B       False        True       False\n"
          ]
        }
      ]
    },
    {
      "cell_type": "code",
      "source": [
        "import pandas as pd\n",
        "from datetime import datetime\n",
        "abc={\n",
        "    'Name':['Alice','Bob','Charlie'],\n",
        "    'DOB':['1990-05-15','1985-09-20','1995-02-10']\n",
        "}\n",
        "df=pd.DataFrame(abc)\n",
        "df['DOB']=pd.to_datetime(df['DOB'])\n",
        "df['Age']=datetime.now().year-df['DOB'].dt.year\n",
        "print(df)"
      ],
      "metadata": {
        "colab": {
          "base_uri": "https://localhost:8080/"
        },
        "id": "6MP4vZQufp6-",
        "outputId": "c804d274-a6a7-4abd-e010-7b65157f1c53"
      },
      "execution_count": 6,
      "outputs": [
        {
          "output_type": "stream",
          "name": "stdout",
          "text": [
            "      Name        DOB  Age\n",
            "0    Alice 1990-05-15   35\n",
            "1      Bob 1985-09-20   40\n",
            "2  Charlie 1995-02-10   30\n"
          ]
        }
      ]
    },
    {
      "cell_type": "code",
      "source": [
        "import pandas as pd\n",
        "data={'category':['A','A','B','B','c'],\n",
        "      'values':['10','20','10','30','40']}\n",
        "df=pd.DataFrame(data)\n",
        "df['values'] = pd.to_numeric(df['values'], errors='coerce')\n",
        "grouped = df.groupby('category').agg({'values': ['sum', 'mean']})\n",
        "print(grouped)\n",
        "\n",
        "print(\"OUTPUT pivot\")\n",
        "pivot=df.pivot(index='category',columns='values',values='values')\n",
        "print(pivot)\n"
      ],
      "metadata": {
        "colab": {
          "base_uri": "https://localhost:8080/"
        },
        "id": "TNS0nPZ5jbWL",
        "outputId": "61aab641-f7d2-4438-a21f-916127b53d19"
      },
      "execution_count": 26,
      "outputs": [
        {
          "output_type": "stream",
          "name": "stdout",
          "text": [
            "         values      \n",
            "            sum  mean\n",
            "category             \n",
            "A            30  15.0\n",
            "B            40  20.0\n",
            "c            40  40.0\n",
            "OUTPUT pivot\n",
            "values      10    20    30    40\n",
            "category                        \n",
            "A         10.0  20.0   NaN   NaN\n",
            "B         10.0   NaN  30.0   NaN\n",
            "c          NaN   NaN   NaN  40.0\n"
          ]
        }
      ]
    }
  ],
  "metadata": {
    "colab": {
      "name": "Welcome To Colab",
      "provenance": [],
      "include_colab_link": true
    },
    "kernelspec": {
      "display_name": "Python 3",
      "name": "python3"
    }
  },
  "nbformat": 4,
  "nbformat_minor": 0
}